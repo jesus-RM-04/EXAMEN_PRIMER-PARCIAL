{
  "nbformat": 4,
  "nbformat_minor": 0,
  "metadata": {
    "colab": {
      "name": "EXAMEN_RMJS_2SV1.ipynb",
      "provenance": [],
      "collapsed_sections": []
    },
    "kernelspec": {
      "name": "python3",
      "display_name": "Python 3"
    }
  },
  "cells": [
    {
      "cell_type": "markdown",
      "metadata": {
        "id": "Huovzdv669PS"
      },
      "source": [
        "Escribir un programa que calcule las raÍces de\n",
        "## ax^2 + bx + c = 0"
      ]
    },
    {
      "cell_type": "code",
      "metadata": {
        "id": "RXDJ_C5u6-K9",
        "outputId": "ba4c3f10-713e-473a-b7af-5ceaef42c25d",
        "colab": {
          "base_uri": "https://localhost:8080/"
        }
      },
      "source": [
        "\n",
        "a=float(input(\"digite el valor de a:\"))\n",
        "b=float(input(\"digite el valor de b:\"))\n",
        "c=float(input(\"digite el valor de c:\"))\n",
        "discriminante=(b*b)-(4*a*c)\n",
        "x1=(-b+((discriminante)**0.5))/(2*a)\n",
        "x2=(-b-((discriminante)**0.5))/(2*a)\n",
        "\n",
        "if discriminante<0:\n",
        "  print(discriminante)\n",
        "  print(\"Error, el discriminante tiene que ser positivo\")\n",
        "  print(\"introduzca una nuevos valores\")\n",
        "  a=float(input(\"digite el valor de a:\"))\n",
        "  b=float(input(\"digite el valor de b:\"))\n",
        "  c=float(input(\"digite el valor de c:\"))\n",
        "  discriminante=(b*b)-(4*a*c)\n",
        "  if discriminante>=0:\n",
        "    x1=(-b+((discriminante)**0.5))/(2*a)\n",
        "    x2=(-b-((discriminante)**0.5))/(2*a)\n",
        "    print(\"el valor de x1 es:\",x1)\n",
        "    print(\"el valor de x2 es:\",x2)\n",
        "  while discriminante<0:\n",
        "    x=float(input(\"digite el valor de a:\"))\n",
        "    y=float(input(\"digite el valor de b:\"))\n",
        "    z=float(input(\"digite el valor de c:\"))\n",
        "    discriminante=((y*y)-(4*x*z))\n",
        "    if discriminante>=0:\n",
        "      x3=(-y+((discriminante)**0.5))/(2*x)\n",
        "      x4=(-y-((discriminante)**0.5))/(2*x)\n",
        "      print(\"el valor de x1 es:\",x3)\n",
        "      print(\"el valor de x2 es:\",x4)\n",
        "      if discriminante>=0:\n",
        "       break\n",
        "else:\n",
        "  print(\"el valor de x1 es:\",x3)\n",
        "  print(\"el valor de x2 es:\",x4)\n",
        "\n"
      ],
      "execution_count": 46,
      "outputs": [
        {
          "output_type": "stream",
          "text": [
            "digite el valor de a:1\n",
            "digite el valor de b:1\n",
            "digite el valor de c:1\n",
            "-3.0\n",
            "Error, el discriminante tiene que ser positivo\n",
            "introduzca una nuevos valores\n",
            "digite el valor de a:3\n",
            "digite el valor de b:-5\n",
            "digite el valor de c:2\n",
            "el valor de x1 es: 1.0\n",
            "el valor de x2 es: 0.6666666666666666\n"
          ],
          "name": "stdout"
        }
      ]
    },
    {
      "cell_type": "markdown",
      "metadata": {
        "id": "vat-3c3PsKCy"
      },
      "source": [
        "PROBLEMA 2:\n",
        "Sea la función\n",
        "\n",
        "f(x) = x^2 + 3x + 3\n",
        "\n",
        "Realizar un función que acepte como argumento el valor de x, que calcule el valor de f(x) y que lo regrese a la función principal.\n",
        "\n",
        "En el programa principal, debe de hacer un bucle que ayude a evaluar la función con valores desde -4 hasta 10 y que pare el bucle cuando el valor  f(x) sea mayor a 30.\n",
        "\n",
        "Guardar en una lista el valor de las iteraciones conforme van pasando.\n"
      ]
    },
    {
      "cell_type": "code",
      "metadata": {
        "id": "oUebQOHxsK3t",
        "outputId": "81e73438-d7b5-4048-9d0c-459017846efb",
        "colab": {
          "base_uri": "https://localhost:8080/"
        }
      },
      "source": [
        "def ecuacion(x):\n",
        "  ec=(x**2+3*x+3)\n",
        "  print(\"al evaluar x en la funcion el resultado es:\",ec)\n",
        "x=float(input(\"ingrese el valor de x\"))\n",
        "ecuacion(x)\n",
        "\n",
        "A=[]\n",
        "def sol(y):\n",
        "  b=y**2+3*y+3\n",
        "  return b\n",
        "c=-5\n",
        "while c<10 and sol(c)<30:\n",
        "  c=c+1\n",
        "  sol(c)\n",
        "  A.append(sol(c))\n",
        "print(\"lista de valores ya evaluados\",A)\n",
        "\n",
        "\n",
        "\n",
        "\n"
      ],
      "execution_count": 77,
      "outputs": [
        {
          "output_type": "stream",
          "text": [
            "ingrese el valor de x2\n",
            "al evaluar x en la funcion el resultado es: 13.0\n",
            "lista de valores ya evaluados [7, 3, 1, 1, 3, 7, 13, 21, 31]\n"
          ],
          "name": "stdout"
        }
      ]
    },
    {
      "cell_type": "code",
      "metadata": {
        "id": "3xIqDnwt-MjA"
      },
      "source": [
        ""
      ],
      "execution_count": null,
      "outputs": []
    }
  ]
}